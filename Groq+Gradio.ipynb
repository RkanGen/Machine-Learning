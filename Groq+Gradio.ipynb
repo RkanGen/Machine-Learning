{
  "nbformat": 4,
  "nbformat_minor": 0,
  "metadata": {
    "colab": {
      "provenance": [],
      "authorship_tag": "ABX9TyMWejfaZMPvyrB6Z20udEGH",
      "include_colab_link": true
    },
    "kernelspec": {
      "name": "python3",
      "display_name": "Python 3"
    },
    "language_info": {
      "name": "python"
    }
  },
  "cells": [
    {
      "cell_type": "markdown",
      "metadata": {
        "id": "view-in-github",
        "colab_type": "text"
      },
      "source": [
        "<a href=\"https://colab.research.google.com/github/RkanGen/Machine-Learning/blob/main/Groq%2BGradio.ipynb\" target=\"_parent\"><img src=\"https://colab.research.google.com/assets/colab-badge.svg\" alt=\"Open In Colab\"/></a>"
      ]
    },
    {
      "cell_type": "code",
      "execution_count": null,
      "metadata": {
        "id": "ues91ZQFqlwk"
      },
      "outputs": [],
      "source": [
        "import os\n",
        "from groq import Groq\n",
        "import gradio as gr"
      ]
    },
    {
      "cell_type": "code",
      "source": [
        "client=Groq(api_key=os.environ.get(\"GROQ_API_KEY\")?)"
      ],
      "metadata": {
        "id": "xXLK3Ce1rBGf"
      },
      "execution_count": null,
      "outputs": []
    },
    {
      "cell_type": "code",
      "source": [
        "system_prompt={\"role\":\"system\",\"content\": \"You are a helpful assistant .You reply with very accurate answers .\"}"
      ],
      "metadata": {
        "id": "i8UcI1E1rRlw"
      },
      "execution_count": null,
      "outputs": []
    },
    {
      "cell_type": "code",
      "source": [
        "async def chat_groq(message,history):\n",
        "  for msg in history:\n",
        "    messages.append({\"role\":\"user\",\"content\":str(msg[0])})\n",
        "    messages.append({\"role\":\"assistant\",\"content\":str(msg[1])})\n",
        "  messages.append({\"role\":\"user\",\"content\":str(message)})\n",
        "  response_content=\"\"\n",
        "  stream=client.chat.completions.create(model=\"llama3-8b-8192\",messages=messages,max_tokens=1024,temperature=1.3,stream=True)\n",
        "  for chunk in stream:\n",
        "    content=chunk.choices[0].delta.content\n",
        "    if content:\n",
        "      response_content+=chunk.choices[0].delta.content\n",
        "      yield response_content\n",
        "with gr.Blocks(fill_height=True) as demo:\n",
        "  gr.ChatInterface(chat_groq,clear_btn=None,undo_btn=None,retry_btn=None,fill_height=True,)\n",
        "  demo.launch()"
      ],
      "metadata": {
        "id": "FOBmj975rsGS"
      },
      "execution_count": null,
      "outputs": []
    }
  ]
}