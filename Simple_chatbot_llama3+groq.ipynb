{
  "nbformat": 4,
  "nbformat_minor": 0,
  "metadata": {
    "colab": {
      "provenance": [],
      "authorship_tag": "ABX9TyNkiy2xAvhQvw1XtDX21/f8",
      "include_colab_link": true
    },
    "kernelspec": {
      "name": "python3",
      "display_name": "Python 3"
    },
    "language_info": {
      "name": "python"
    }
  },
  "cells": [
    {
      "cell_type": "markdown",
      "metadata": {
        "id": "view-in-github",
        "colab_type": "text"
      },
      "source": [
        "<a href=\"https://colab.research.google.com/github/RkanGen/Machine-Learning/blob/main/Simple_chatbot_llama3%2Bgroq.ipynb\" target=\"_parent\"><img src=\"https://colab.research.google.com/assets/colab-badge.svg\" alt=\"Open In Colab\"/></a>"
      ]
    },
    {
      "cell_type": "code",
      "execution_count": null,
      "metadata": {
        "id": "cqr5KEBGlc1H"
      },
      "outputs": [],
      "source": [
        "imprt os\n",
        "from groq from Groq"
      ]
    },
    {
      "cell_type": "code",
      "source": [
        "#create the Groq client\n",
        "client=Groq(api_key=os.environ.get(\"GROQ_API_KEY\"),)"
      ],
      "metadata": {
        "id": "PkB1_ox7me6b"
      },
      "execution_count": null,
      "outputs": []
    },
    {
      "cell_type": "code",
      "source": [
        "#set the system prompt\n",
        "system_prompt={\"role\":\"system\",\"content\": \"You are a helpful assistant .You reply with very accurate answers .\"}"
      ],
      "metadata": {
        "id": "iYcPCkg5m0P6"
      },
      "execution_count": null,
      "outputs": []
    },
    {
      "cell_type": "code",
      "source": [
        "#initialize the chat history\n",
        "chat_history=[system_prompt]"
      ],
      "metadata": {
        "id": "ezShWIBdnYOM"
      },
      "execution_count": null,
      "outputs": []
    },
    {
      "cell_type": "code",
      "source": [
        "while true:\n",
        "  #get user input from the console\n",
        "  user_input =input(\"You:\")\n",
        "  #append the user inut to the chat history\n",
        "  chat_history.append({\"role\":\"user\",\"content\":user_input})\n",
        "  response =client.chat.completions.create(model=\"llama3-8b-8192\",messages=chat_history,max_tokens=120,temperature=1.7)\n",
        "  #append the response to the chat history\n",
        "  chat_historyappend({\"role\":\"assistant\",\"content\":response.choices[0].message.content})\n",
        "  #print the response\n",
        "  print(\"Assistant\",response.choices[0].message.content)"
      ],
      "metadata": {
        "id": "wYRoDC3EnjjQ"
      },
      "execution_count": null,
      "outputs": []
    }
  ]
}